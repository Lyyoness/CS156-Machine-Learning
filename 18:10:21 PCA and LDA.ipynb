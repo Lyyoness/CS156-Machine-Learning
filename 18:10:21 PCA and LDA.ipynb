{
 "cells": [
  {
   "cell_type": "markdown",
   "metadata": {},
   "source": [
    "# PCA vs. LDA Assignment\n",
    "### Michelle Hackl\n",
    "#### CS156 - Prof. Sterne"
   ]
  },
  {
   "cell_type": "code",
   "execution_count": 1,
   "metadata": {},
   "outputs": [],
   "source": [
    "import sys\n",
    "sys.path.append('/usr/local/lib/python2.7/site-packages')\n",
    "import warnings\n",
    "warnings.simplefilter(action='ignore')"
   ]
  },
  {
   "cell_type": "code",
   "execution_count": 2,
   "metadata": {},
   "outputs": [],
   "source": [
    "import random\n",
    "import numpy as np \n",
    "import pandas as pd\n",
    "import matplotlib.pyplot as plt\n",
    "from matplotlib import colors\n",
    "%matplotlib inline\n",
    "\n",
    "from glob import glob\n",
    "from PIL import Image\n",
    "from resizeimage import resizeimage\n",
    "\n",
    "from sklearn.model_selection import train_test_split as ttsplit, GridSearchCV\n",
    "from sklearn.metrics import accuracy_score\n",
    "from sklearn.linear_model import LogisticRegression as LR\n",
    "from sklearn.decomposition import PCA\n",
    "from sklearn.discriminant_analysis import LinearDiscriminantAnalysis as LDA"
   ]
  },
  {
   "cell_type": "markdown",
   "metadata": {},
   "source": [
    "## Image processing steps\n",
    "We start by importing the images and resizing them into arrays of 600 (200 pixels á 3 colors). \n",
    "Optional preprocessing steps:\n",
    "1. Checking for duplicate images across the data sets (fastest by using a hash).\n",
    "2. Removing images that have a dark background by checking for the colors of the edge pixels. This avoids all images that are up-close or with distracting backgrounds.\n",
    "3. Manually correcting image labels. I noticed several shirts labeled as jerseys and vice versa at a quick glance."
   ]
  },
  {
   "cell_type": "code",
   "execution_count": 3,
   "metadata": {
    "collapsed": true
   },
   "outputs": [],
   "source": [
    "jerseydir = glob(\"/Users/michellehackl/Google_Drive/School/Minerva/Classes/2018:2019/CS156/PCA/Jersey/*\")\n",
    "shirtdir = glob(\"/Users/michellehackl/Google_Drive/School/Minerva/Classes/2018:2019/CS156/PCA/Shirt/*\")"
   ]
  },
  {
   "cell_type": "code",
   "execution_count": 4,
   "metadata": {
    "collapsed": true
   },
   "outputs": [],
   "source": [
    "#opening and resizing the images into flat arrays of 600\n",
    "jerseys = []\n",
    "for path in jerseydir:\n",
    "    with open(path, 'r+b') as f:\n",
    "        with Image.open(f) as i:\n",
    "            cover = resizeimage.resize_cover(i, [20, 10])\n",
    "            if len(np.array(cover).flatten()) == 600: \n",
    "                jerseys.append((np.array(cover).flatten(), 0))\n",
    "                i.close() #to ensure memory doesn't overflow\n",
    "            \n",
    "shirts = []\n",
    "for path in shirtdir:\n",
    "    with open(path, 'r+b') as f:\n",
    "        with Image.open(f) as i:\n",
    "            cover = resizeimage.resize_cover(i, [20, 10])\n",
    "            if len(np.array(cover).flatten()) == 600: \n",
    "                shirts.append((np.array(cover).flatten(), 1))\n",
    "                i.close()"
   ]
  },
  {
   "cell_type": "code",
   "execution_count": 5,
   "metadata": {},
   "outputs": [],
   "source": [
    "jerseys = np.asarray(jerseys)\n",
    "shirts = np.asarray(shirts)\n",
    "\n",
    "images = np.append(jerseys[:,0], shirts[:,0])\n",
    "labels = np.append(jerseys[:,1], shirts[:,1])\n",
    "\n",
    "#unstacking the arrays in array\n",
    "images = np.stack(i for i in images)\n",
    "labels = np.stack(i for i in labels)\n",
    "\n",
    "#conversion for LDA later\n",
    "X = images.astype('float64')\n",
    "y = labels.astype('float64')"
   ]
  },
  {
   "cell_type": "markdown",
   "metadata": {
    "collapsed": true
   },
   "source": [
    "## Linear Classifier\n",
    "I use a simple Logistic Regression Classifier as the baseline model. GridSearchCV helps to find the optimal parameters for the model, as well as perform cross-validation on them. Ideal parameters are then used to train the model and evaluate it on the hold-out testing data."
   ]
  },
  {
   "cell_type": "code",
   "execution_count": 6,
   "metadata": {},
   "outputs": [
    {
     "data": {
      "text/plain": [
       "GridSearchCV(cv=5, error_score='raise',\n",
       "       estimator=LogisticRegression(C=1.0, class_weight=None, dual=False, fit_intercept=True,\n",
       "          intercept_scaling=1, max_iter=100, multi_class='ovr', n_jobs=1,\n",
       "          penalty='l2', random_state=None, solver='liblinear', tol=0.0001,\n",
       "          verbose=0, warm_start=False),\n",
       "       fit_params=None, iid=True, n_jobs=1,\n",
       "       param_grid=[{'C': [1.0, 0.1, 0.01], 'max_iter': [500], 'solver': ['sag', 'saga', 'lbfgs']}],\n",
       "       pre_dispatch='2*n_jobs', refit=True, return_train_score='warn',\n",
       "       scoring='accuracy', verbose=0)"
      ]
     },
     "execution_count": 6,
     "metadata": {},
     "output_type": "execute_result"
    }
   ],
   "source": [
    "random.seed(1337)\n",
    "X_train, X_test, y_train, y_test = ttsplit(X, y, test_size=0.3)\n",
    "\n",
    "LR = LR()\n",
    "parameters = [{'C': [1.0, 0.1, 0.01], 'max_iter': [500],\n",
    "                'solver': ['sag', 'saga', 'lbfgs']}]\n",
    "\n",
    "grid = GridSearchCV(LR, cv=5, param_grid=parameters,\n",
    "                    scoring='accuracy')\n",
    "grid.fit(X_train, y_train)"
   ]
  },
  {
   "cell_type": "code",
   "execution_count": 7,
   "metadata": {},
   "outputs": [
    {
     "name": "stdout",
     "output_type": "stream",
     "text": [
      "Parameters used for LR:\n",
      "{'C': 1.0, 'max_iter': 500, 'solver': 'sag'}\n",
      "LR accuracy training data:  0.567484662577\n",
      "LR accuracy testing data:  0.567342073897\n"
     ]
    }
   ],
   "source": [
    "print \"Parameters used for LR:\"\n",
    "print grid.best_params_\n",
    "optimal_LR = grid.best_estimator_\n",
    "\n",
    "y_pred = optimal_LR.predict(X_test)\n",
    "acc_train = grid.best_score_\n",
    "acc_test = accuracy_score(y_test, y_pred)\n",
    "print \"LR accuracy training data: \", acc_train\n",
    "print \"LR accuracy testing data: \", acc_test"
   ]
  },
  {
   "cell_type": "markdown",
   "metadata": {},
   "source": [
    "## PCA\n",
    "We fit our PCA on training data and then use the trained PCA model to transform the testing data separately, as to not have information from the training data bleed into the test set transformation. Not having this separation might mean, that the components PCA picks are already tailored to improve performance on the testing data.\n",
    "\n",
    "Using the explained variance ratio, I have decided to settle for 9 components, which explain 75% of my data's variance. This seems to be the \"elbow\", indicating the ideal variance/dimensionality tradeoff point.\n",
    "\n",
    "Additionally, I train a PCA model with 1D data, for visualization purposes and comparison against the LDA later. Note that this model works poorly, as was to be expected, since a single component only explains about 30% of our variance."
   ]
  },
  {
   "cell_type": "code",
   "execution_count": 8,
   "metadata": {},
   "outputs": [
    {
     "data": {
      "image/png": "[encoded data removed]",
      "text/plain": [
       "<matplotlib.figure.Figure at 0x1070f4f10>"
      ]
     },
     "metadata": {},
     "output_type": "display_data"
    }
   ],
   "source": [
    "variance_exp = []\n",
    "for i in range(50):\n",
    "    pca = PCA(n_components=i)\n",
    "    _ = pca.fit(X_train)\n",
    "    variance_exp.append(sum(pca.explained_variance_ratio_))\n",
    "    \n",
    "plt.plot(range(1,51), variance_exp, label=\"Variance\")\n",
    "plt.hlines(0.75,0,50, linestyles='dashed', label=\"75% Variance Explained\")\n",
    "\n",
    "plt.xlabel(\"# of PCA components\")\n",
    "plt.ylabel(\"Variance explained\")\n",
    "plt.title(\"Variance/Component Tradeoff\")\n",
    "plt.legend(loc=4)\n",
    "\n",
    "plt.show()"
   ]
  },
  {
   "cell_type": "code",
   "execution_count": 9,
   "metadata": {},
   "outputs": [],
   "source": [
    "optimal_pca = PCA(n_components=9) \n",
    "X_test_pca = optimal_pca.fit_transform(X_test)\n",
    "X_train_pca = optimal_pca.transform(X_train)"
   ]
  },
  {
   "cell_type": "code",
   "execution_count": 10,
   "metadata": {
    "collapsed": true
   },
   "outputs": [],
   "source": [
    "optimal_LR.fit(X_train_pca, y_train)\n",
    "y_pred_pca = optimal_LR.predict(X_test_pca)"
   ]
  },
  {
   "cell_type": "code",
   "execution_count": 11,
   "metadata": {},
   "outputs": [
    {
     "name": "stdout",
     "output_type": "stream",
     "text": [
      "LR accuracy training data with PCA:  0.624744376278\n",
      "LR accuracy testing data with PCA:  0.610250297974\n"
     ]
    }
   ],
   "source": [
    "acc_train_pca = optimal_LR.score(X_train_pca, y_train)\n",
    "acc_test_pca = accuracy_score(y_test, y_pred_pca)\n",
    "print \"LR accuracy training data with PCA: \", acc_train_pca\n",
    "print \"LR accuracy testing data with PCA: \", acc_test_pca"
   ]
  },
  {
   "cell_type": "code",
   "execution_count": 12,
   "metadata": {},
   "outputs": [
    {
     "name": "stdout",
     "output_type": "stream",
     "text": [
      "LR accuracy training data with PCA (1d):  0.558282208589\n",
      "LR accuracy testing data with PCA (1d):  0.536352800954\n"
     ]
    }
   ],
   "source": [
    "pca_1d = PCA(n_components=1) \n",
    "X_test_pca_1d = pca_1d.fit_transform(X_test)\n",
    "X_train_pca_1d = pca_1d.transform(X_train)\n",
    "\n",
    "optimal_LR.fit(X_train_pca_1d, y_train)\n",
    "y_pred_pca_1d = optimal_LR.predict(X_test_pca_1d)\n",
    "\n",
    "acc_train_pca_1d = optimal_LR.score(X_train_pca_1d, y_train)\n",
    "acc_test_pca_1d = accuracy_score(y_test, y_pred_pca_1d)\n",
    "print \"LR accuracy training data with PCA (1d): \", acc_train_pca_1d\n",
    "print \"LR accuracy testing data with PCA (1d): \", acc_test_pca_1d"
   ]
  },
  {
   "cell_type": "markdown",
   "metadata": {},
   "source": [
    "## LDA\n",
    "With LDA, we are performing supervised dimensionality reduction (as opposed to PCA's unsupervised, variance-based approach). "
   ]
  },
  {
   "cell_type": "code",
   "execution_count": 13,
   "metadata": {},
   "outputs": [
    {
     "name": "stdout",
     "output_type": "stream",
     "text": [
      "Parameters used for LR:\n",
      "{'shrinkage': None, 'solver': 'eigen'}\n"
     ]
    }
   ],
   "source": [
    "lda = LDA()\n",
    "parameters_lda = [{'shrinkage': ['auto', None],\n",
    "                   'solver': ['eigen']}]\n",
    "\n",
    "grid_lda = GridSearchCV(lda, cv=5, param_grid=parameters_lda,\n",
    "                        scoring='accuracy')\n",
    "grid_lda.fit(X_train, y_train)\n",
    "\n",
    "print \"Parameters used for LR:\"\n",
    "print grid_lda.best_params_\n",
    "optimal_lda = grid_lda.best_estimator_"
   ]
  },
  {
   "cell_type": "code",
   "execution_count": 14,
   "metadata": {},
   "outputs": [],
   "source": [
    "X_train_lda = optimal_lda.fit_transform(X_train, y_train)\n",
    "X_test_lda = optimal_lda.transform(X_test)"
   ]
  },
  {
   "cell_type": "code",
   "execution_count": 15,
   "metadata": {},
   "outputs": [
    {
     "name": "stdout",
     "output_type": "stream",
     "text": [
      "LR accuracy training data with LDA:  0.775051124744\n",
      "LR accuracy testing data with LDA:  0.568533969011\n"
     ]
    }
   ],
   "source": [
    "optimal_LR.fit(X_train_lda, y_train)\n",
    "y_pred_lda = optimal_LR.predict(X_test_lda)\n",
    "\n",
    "acc_train_lda = optimal_LR.score(X_train_lda, y_train)\n",
    "acc_test_lda = accuracy_score(y_test, y_pred_lda)\n",
    "print \"LR accuracy training data with LDA: \", acc_train_lda\n",
    "print \"LR accuracy testing data with LDA: \", acc_test_lda"
   ]
  },
  {
   "cell_type": "markdown",
   "metadata": {},
   "source": [
    "## Comparing LDA to PCA\n",
    "Here I compare the dimensionality reduction of LDA to that of PCA (using n_components = 1). As we would expect, LDA is able to distinguish between the two data sets with slightly higher accuracy (note that we can see a small difference between the datasets in the second plot), but because of the general similarity of shirts and jerseys in our set, both do a rather terrible job at creating a clear separation."
   ]
  },
  {
   "cell_type": "code",
   "execution_count": 20,
   "metadata": {},
   "outputs": [
    {
     "data": {
      "image/png": "[encoded data removed]",
      "text/plain": [
       "<matplotlib.figure.Figure at 0x103e0a590>"
      ]
     },
     "metadata": {},
     "output_type": "display_data"
    },
    {
     "data": {
      "image/png": "[encoded data removed]",
      "text/plain": [
       "<matplotlib.figure.Figure at 0x10b203850>"
      ]
     },
     "metadata": {},
     "output_type": "display_data"
    }
   ],
   "source": [
    "plt.figure()\n",
    "colors = ['navy', 'darkorange']\n",
    "target_names = ['Jersey', 'Shirt']\n",
    "\n",
    "X_pca = np.concatenate((X_train_pca_1d, X_test_pca_1d), axis=0)\n",
    "X_lda = np.concatenate((X_train_lda, X_test_lda), axis=0)\n",
    "\n",
    "for color, i, name in zip(colors, [0, 1], target_names):\n",
    "    plt.plot(X_pca[y == i, 0], len(X_pca[y==i,0]) * [0.1*i], 'x',\n",
    "                color=color, alpha=0.2, lw=1, label=name)\n",
    "plt.legend(loc=7, shadow=False, scatterpoints=1)\n",
    "plt.ylim((-0.025,0.125))\n",
    "plt.yticks([])\n",
    "plt.title('1-Dimensional PCA')\n",
    "plt.figure()\n",
    "\n",
    "for color, i, name in zip(colors, [0, 1], target_names):\n",
    "    plt.plot(X_lda[y == i, 0], len(X_lda[y==i,0]) * [0.1*i], 'x',\n",
    "                color=color, alpha=0.2, lw=1, label=name)\n",
    "plt.legend(loc=7, shadow=False, scatterpoints=1)\n",
    "plt.ylim((-0.025,0.125))\n",
    "plt.yticks([])\n",
    "plt.title('1-Dimensional LDA')\n",
    "\n",
    "plt.show()"
   ]
  },
  {
   "cell_type": "code",
   "execution_count": 17,
   "metadata": {},
   "outputs": [
    {
     "data": {
      "text/html": [
       "<div>\n",
       "<style>\n",
       "    .dataframe thead tr:only-child th {\n",
       "        text-align: right;\n",
       "    }\n",
       "\n",
       "    .dataframe thead th {\n",
       "        text-align: left;\n",
       "    }\n",
       "\n",
       "    .dataframe tbody tr th {\n",
       "        vertical-align: top;\n",
       "    }\n",
       "</style>\n",
       "<table border=\"1\" class=\"dataframe\">\n",
       "  <thead>\n",
       "    <tr style=\"text-align: right;\">\n",
       "      <th></th>\n",
       "      <th>LDA 1 component</th>\n",
       "      <th>Logistic Regression</th>\n",
       "      <th>PCA 1 component</th>\n",
       "      <th>PCA 9 components</th>\n",
       "    </tr>\n",
       "  </thead>\n",
       "  <tbody>\n",
       "    <tr>\n",
       "      <th>Training Accuracy</th>\n",
       "      <td>0.78</td>\n",
       "      <td>0.57</td>\n",
       "      <td>0.56</td>\n",
       "      <td>0.62</td>\n",
       "    </tr>\n",
       "    <tr>\n",
       "      <th>Testing Accuracy</th>\n",
       "      <td>0.57</td>\n",
       "      <td>0.57</td>\n",
       "      <td>0.54</td>\n",
       "      <td>0.61</td>\n",
       "    </tr>\n",
       "  </tbody>\n",
       "</table>\n",
       "</div>"
      ],
      "text/plain": [
       "                   LDA 1 component  Logistic Regression  PCA 1 component  \\\n",
       "Training Accuracy             0.78                 0.57             0.56   \n",
       "Testing Accuracy              0.57                 0.57             0.54   \n",
       "\n",
       "                   PCA 9 components  \n",
       "Training Accuracy              0.62  \n",
       "Testing Accuracy               0.61  "
      ]
     },
     "execution_count": 17,
     "metadata": {},
     "output_type": "execute_result"
    }
   ],
   "source": [
    "results = {\n",
    "    'Logistic Regression':[acc_train, acc_test],\n",
    "    'PCA 9 components':[acc_train_pca, acc_test_pca],\n",
    "    'PCA 1 component':[acc_train_pca_1d, acc_test_pca_1d],\n",
    "    'LDA 1 component':[acc_train_lda, acc_test_lda]\n",
    "}\n",
    "pd.DataFrame(results, index=['Training Accuracy', 'Testing Accuracy']).round(2)"
   ]
  },
  {
   "cell_type": "markdown",
   "metadata": {},
   "source": [
    "## Conclusions\n",
    "From the above table, we can see that while LDA manages to most clearly distinguish Jerseys from Shirts in the training data, it performs no better than our standard LogReg model on the test data. PCA with the same amount of dimensions as LDA ranks dead last at what is essentially chance level and PCA with optimized number of components performs best on the unseen testing data, though also only marginally above chance level.\n",
    "\n",
    "With better data pre-processing, I would expect to see a slight improvement in performance, but the images are often barely classifiable to myself (human observer) and the amount to which the images were incorrectly labeled might also have had an impact on classifier performance.\n",
    "\n",
    "And what's the real difference between a jersey and a shirt anyways...?"
   ]
  }
 ],
 "metadata": {
  "kernelspec": {
   "display_name": "Python 2",
   "language": "python",
   "name": "python2"
  },
  "language_info": {
   "codemirror_mode": {
    "name": "ipython",
    "version": 2
   },
   "file_extension": ".py",
   "mimetype": "text/x-python",
   "name": "python",
   "nbconvert_exporter": "python",
   "pygments_lexer": "ipython2",
   "version": "2.7.14"
  }
 },
 "nbformat": 4,
 "nbformat_minor": 2
}
