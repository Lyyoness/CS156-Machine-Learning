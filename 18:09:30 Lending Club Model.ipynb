{
 "cells": [
  {
   "cell_type": "markdown",
   "metadata": {},
   "source": [
    "<center><h1>Lending Club Model"
   ]
  },
  {
   "cell_type": "markdown",
   "metadata": {},
   "source": [
    "## Section 1 - Data cleaning\n",
    "We will try to create a ML model that can predict the maximum approved loan amount from approved and declined loan data. We begin by importing data from 2007 - 2014 on approved and denied loan applications and selecting only those variables for which both data sets have recorded data.\n",
    "\n",
    "The years 2007-2014 have been chosen as the maximum amount of data that my algorithm could handle in a reasonable amount of time. I make the assumption that the amount that could be requested has not significantly changed over those years, hence this data can be randomly shuffled into training and testing data."
   ]
  },
  {
   "cell_type": "code",
   "execution_count": 1,
   "metadata": {
    "collapsed": true
   },
   "outputs": [],
   "source": [
    "import pandas as pd\n",
    "import numpy as np\n",
    "import nltk\n",
    "import matplotlib.pyplot as plt\n",
    "%matplotlib inline  \n",
    "from sklearn.preprocessing import LabelEncoder\n",
    "from sklearn.feature_extraction.text import TfidfVectorizer \n",
    "from sklearn.linear_model import LogisticRegression\n",
    "from sklearn.model_selection import train_test_split, GridSearchCV\n",
    "from sklearn.metrics import accuracy_score\n",
    "# from sklearn.preprocessing import MinMaxScaler\n",
    "\n",
    "import warnings\n",
    "warnings.simplefilter(action='ignore')"
   ]
  },
  {
   "cell_type": "code",
   "execution_count": 2,
   "metadata": {},
   "outputs": [],
   "source": [
    "approved_07_11 = pd.read_csv('/Users/michellehackl/Google_Drive/School/Minerva/Classes/2018:2019/CS156/09:30 A2 - Lending Club Assignment/approved_07_11.csv')\n",
    "approved_12_13 = pd.read_csv('/Users/michellehackl/Google_Drive/School/Minerva/Classes/2018:2019/CS156/09:30 A2 - Lending Club Assignment/approved_12_13.csv')\n",
    "approved_14 = pd.read_csv('/Users/michellehackl/Google_Drive/School/Minerva/Classes/2018:2019/CS156/09:30 A2 - Lending Club Assignment/approved_14.csv')"
   ]
  },
  {
   "cell_type": "code",
   "execution_count": 3,
   "metadata": {},
   "outputs": [
    {
     "name": "stdout",
     "output_type": "stream",
     "text": [
      "(466360, 145)\n"
     ]
    }
   ],
   "source": [
    "approved = pd.concat([approved_07_11, approved_12_13, approved_14])\n",
    "print approved.shape"
   ]
  },
  {
   "cell_type": "markdown",
   "metadata": {},
   "source": [
    "I have identified the State, Debt-to-Income Ratio, Employment Length, Policy Code, Zip Code, Loan Title and Date as the only variables consistent across both data sets. Date was left out, as we are making the assumption that the year at which a request was made should not influence the amount. It would be potentially interesting to include the month, as this might show interesting patterns in the data, however the date in the declined data frame is \"Application Date\", while the date in the approved data frame is \"Approval Date\", which, for all we know, could be months apart. Hence it might be harder to identify meaningful trends and as such I instead chose to exclude the dates.\n",
    "\n",
    "---\n",
    "I included a short section in the appendix on potential processing steps for Loan Title and reasons as to why I chose not to include it."
   ]
  },
  {
   "cell_type": "code",
   "execution_count": 4,
   "metadata": {},
   "outputs": [
    {
     "data": {
      "text/html": [
       "<div>\n",
       "<style>\n",
       "    .dataframe thead tr:only-child th {\n",
       "        text-align: right;\n",
       "    }\n",
       "\n",
       "    .dataframe thead th {\n",
       "        text-align: left;\n",
       "    }\n",
       "\n",
       "    .dataframe tbody tr th {\n",
       "        vertical-align: top;\n",
       "    }\n",
       "</style>\n",
       "<table border=\"1\" class=\"dataframe\">\n",
       "  <thead>\n",
       "    <tr style=\"text-align: right;\">\n",
       "      <th></th>\n",
       "      <th>State</th>\n",
       "      <th>Debt-To-Income Ratio</th>\n",
       "      <th>Employment Length</th>\n",
       "      <th>Amount Requested</th>\n",
       "      <th>Policy Code</th>\n",
       "      <th>Loan Title</th>\n",
       "      <th>Zip Code</th>\n",
       "    </tr>\n",
       "  </thead>\n",
       "  <tbody>\n",
       "    <tr>\n",
       "      <th>0</th>\n",
       "      <td>AZ</td>\n",
       "      <td>27.65</td>\n",
       "      <td>10+ years</td>\n",
       "      <td>5000.0</td>\n",
       "      <td>1.0</td>\n",
       "      <td>Computer</td>\n",
       "      <td>860xx</td>\n",
       "    </tr>\n",
       "    <tr>\n",
       "      <th>1</th>\n",
       "      <td>GA</td>\n",
       "      <td>1.00</td>\n",
       "      <td>&lt; 1 year</td>\n",
       "      <td>2500.0</td>\n",
       "      <td>1.0</td>\n",
       "      <td>bike</td>\n",
       "      <td>309xx</td>\n",
       "    </tr>\n",
       "    <tr>\n",
       "      <th>2</th>\n",
       "      <td>IL</td>\n",
       "      <td>8.72</td>\n",
       "      <td>10+ years</td>\n",
       "      <td>2400.0</td>\n",
       "      <td>1.0</td>\n",
       "      <td>real estate business</td>\n",
       "      <td>606xx</td>\n",
       "    </tr>\n",
       "  </tbody>\n",
       "</table>\n",
       "</div>"
      ],
      "text/plain": [
       "  State  Debt-To-Income Ratio Employment Length  Amount Requested  \\\n",
       "0    AZ                 27.65         10+ years            5000.0   \n",
       "1    GA                  1.00          < 1 year            2500.0   \n",
       "2    IL                  8.72         10+ years            2400.0   \n",
       "\n",
       "   Policy Code            Loan Title Zip Code  \n",
       "0          1.0              Computer    860xx  \n",
       "1          1.0                  bike    309xx  \n",
       "2          1.0  real estate business    606xx  "
      ]
     },
     "execution_count": 4,
     "metadata": {},
     "output_type": "execute_result"
    }
   ],
   "source": [
    "approved = approved[['addr_state', 'dti', 'emp_length', 'loan_amnt', 'policy_code',\n",
    "                    'title', 'zip_code']]\n",
    "\n",
    "names = {'addr_state': 'State', 'dti': 'Debt-To-Income Ratio',\n",
    "         'emp_length': 'Employment Length', 'loan_amnt': 'Amount Requested',\n",
    "         'policy_code': 'Policy Code', 'title': 'Loan Title',\n",
    "         'zip_code': 'Zip Code'}\n",
    "approved.rename(index=str, columns=names, inplace=True)\n",
    "approved.head(3)"
   ]
  },
  {
   "cell_type": "code",
   "execution_count": 5,
   "metadata": {
    "collapsed": true
   },
   "outputs": [],
   "source": [
    "declined_07_12 = pd.read_csv('/Users/michellehackl/Google_Drive/School/Minerva/Classes/2018:2019/CS156/09:30 A2 - Lending Club Assignment/declined_07_12.csv')\n",
    "declined_13_14 = pd.read_csv('/Users/michellehackl/Google_Drive/School/Minerva/Classes/2018:2019/CS156/09:30 A2 - Lending Club Assignment/declined_13_14.csv')"
   ]
  },
  {
   "cell_type": "code",
   "execution_count": 6,
   "metadata": {},
   "outputs": [
    {
     "name": "stdout",
     "output_type": "stream",
     "text": [
      "(1804065, 7)\n"
     ]
    },
    {
     "data": {
      "text/html": [
       "<div>\n",
       "<style>\n",
       "    .dataframe thead tr:only-child th {\n",
       "        text-align: right;\n",
       "    }\n",
       "\n",
       "    .dataframe thead th {\n",
       "        text-align: left;\n",
       "    }\n",
       "\n",
       "    .dataframe tbody tr th {\n",
       "        vertical-align: top;\n",
       "    }\n",
       "</style>\n",
       "<table border=\"1\" class=\"dataframe\">\n",
       "  <thead>\n",
       "    <tr style=\"text-align: right;\">\n",
       "      <th></th>\n",
       "      <th>Amount Requested</th>\n",
       "      <th>Loan Title</th>\n",
       "      <th>Debt-To-Income Ratio</th>\n",
       "      <th>Zip Code</th>\n",
       "      <th>State</th>\n",
       "      <th>Employment Length</th>\n",
       "      <th>Policy Code</th>\n",
       "    </tr>\n",
       "  </thead>\n",
       "  <tbody>\n",
       "    <tr>\n",
       "      <th>0</th>\n",
       "      <td>1000.0</td>\n",
       "      <td>Wedding Covered but No Honeymoon</td>\n",
       "      <td>10%</td>\n",
       "      <td>481xx</td>\n",
       "      <td>NM</td>\n",
       "      <td>4 years</td>\n",
       "      <td>0</td>\n",
       "    </tr>\n",
       "    <tr>\n",
       "      <th>1</th>\n",
       "      <td>1000.0</td>\n",
       "      <td>Consolidating Debt</td>\n",
       "      <td>10%</td>\n",
       "      <td>010xx</td>\n",
       "      <td>MA</td>\n",
       "      <td>&lt; 1 year</td>\n",
       "      <td>0</td>\n",
       "    </tr>\n",
       "    <tr>\n",
       "      <th>2</th>\n",
       "      <td>11000.0</td>\n",
       "      <td>Want to consolidate my debt</td>\n",
       "      <td>10%</td>\n",
       "      <td>212xx</td>\n",
       "      <td>MD</td>\n",
       "      <td>1 year</td>\n",
       "      <td>0</td>\n",
       "    </tr>\n",
       "  </tbody>\n",
       "</table>\n",
       "</div>"
      ],
      "text/plain": [
       "   Amount Requested                        Loan Title Debt-To-Income Ratio  \\\n",
       "0            1000.0  Wedding Covered but No Honeymoon                  10%   \n",
       "1            1000.0                Consolidating Debt                  10%   \n",
       "2           11000.0       Want to consolidate my debt                  10%   \n",
       "\n",
       "  Zip Code State Employment Length  Policy Code  \n",
       "0    481xx    NM           4 years            0  \n",
       "1    010xx    MA          < 1 year            0  \n",
       "2    212xx    MD            1 year            0  "
      ]
     },
     "execution_count": 6,
     "metadata": {},
     "output_type": "execute_result"
    }
   ],
   "source": [
    "declined = pd.concat([declined_07_12, declined_13_14])\n",
    "declined = declined.drop(['Application Date', 'Risk_Score'], axis=1)\n",
    "print declined.shape\n",
    "declined.head(3)"
   ]
  },
  {
   "cell_type": "markdown",
   "metadata": {},
   "source": [
    "Once the data has been imported and column names are the same in both data frames, we add a variable that encodes whether or not the loan has been approved and then merge the data frames. Then we convert non-numerical columns to numerical or categorical ones. I drop the \"Loan Title\" column (see details in appendix)."
   ]
  },
  {
   "cell_type": "code",
   "execution_count": 7,
   "metadata": {},
   "outputs": [
    {
     "name": "stdout",
     "output_type": "stream",
     "text": [
      "(2270425, 8)\n"
     ]
    },
    {
     "data": {
      "text/html": [
       "<div>\n",
       "<style>\n",
       "    .dataframe thead tr:only-child th {\n",
       "        text-align: right;\n",
       "    }\n",
       "\n",
       "    .dataframe thead th {\n",
       "        text-align: left;\n",
       "    }\n",
       "\n",
       "    .dataframe tbody tr th {\n",
       "        vertical-align: top;\n",
       "    }\n",
       "</style>\n",
       "<table border=\"1\" class=\"dataframe\">\n",
       "  <thead>\n",
       "    <tr style=\"text-align: right;\">\n",
       "      <th></th>\n",
       "      <th>Amount Requested</th>\n",
       "      <th>Approved</th>\n",
       "      <th>Debt-To-Income Ratio</th>\n",
       "      <th>Employment Length</th>\n",
       "      <th>Loan Title</th>\n",
       "      <th>Policy Code</th>\n",
       "      <th>State</th>\n",
       "      <th>Zip Code</th>\n",
       "    </tr>\n",
       "  </thead>\n",
       "  <tbody>\n",
       "    <tr>\n",
       "      <th>0</th>\n",
       "      <td>1000.0</td>\n",
       "      <td>0</td>\n",
       "      <td>10%</td>\n",
       "      <td>4 years</td>\n",
       "      <td>Wedding Covered but No Honeymoon</td>\n",
       "      <td>0.0</td>\n",
       "      <td>NM</td>\n",
       "      <td>481xx</td>\n",
       "    </tr>\n",
       "    <tr>\n",
       "      <th>1</th>\n",
       "      <td>1000.0</td>\n",
       "      <td>0</td>\n",
       "      <td>10%</td>\n",
       "      <td>&lt; 1 year</td>\n",
       "      <td>Consolidating Debt</td>\n",
       "      <td>0.0</td>\n",
       "      <td>MA</td>\n",
       "      <td>010xx</td>\n",
       "    </tr>\n",
       "    <tr>\n",
       "      <th>2</th>\n",
       "      <td>11000.0</td>\n",
       "      <td>0</td>\n",
       "      <td>10%</td>\n",
       "      <td>1 year</td>\n",
       "      <td>Want to consolidate my debt</td>\n",
       "      <td>0.0</td>\n",
       "      <td>MD</td>\n",
       "      <td>212xx</td>\n",
       "    </tr>\n",
       "  </tbody>\n",
       "</table>\n",
       "</div>"
      ],
      "text/plain": [
       "   Amount Requested  Approved Debt-To-Income Ratio Employment Length  \\\n",
       "0            1000.0         0                  10%           4 years   \n",
       "1            1000.0         0                  10%          < 1 year   \n",
       "2           11000.0         0                  10%            1 year   \n",
       "\n",
       "                         Loan Title  Policy Code State Zip Code  \n",
       "0  Wedding Covered but No Honeymoon          0.0    NM    481xx  \n",
       "1                Consolidating Debt          0.0    MA    010xx  \n",
       "2       Want to consolidate my debt          0.0    MD    212xx  "
      ]
     },
     "execution_count": 7,
     "metadata": {},
     "output_type": "execute_result"
    }
   ],
   "source": [
    "declined['Approved'] = 0\n",
    "approved['Approved'] = 1\n",
    "\n",
    "loan_data = pd.concat([declined, approved])\n",
    "print loan_data.shape\n",
    "loan_data.head(3)"
   ]
  },
  {
   "cell_type": "markdown",
   "metadata": {},
   "source": [
    "## Section 2 - Data Transformation\n",
    "\n",
    "After initially training a model with a min-max scaled Debt-to-Income Ratio I noticed that this reduced some of the more \"normal\" DTIs (0.1-10) to insignificant numbers, trumped by a few outstandingly bad scores. \n",
    "After having checked the max DTI values in the approved data frame, I found that no loans had ever gotten approved to people with a DTI of more than 40. So I decided to cap the DTI at 50 and round all larger values to that instead."
   ]
  },
  {
   "cell_type": "code",
   "execution_count": 8,
   "metadata": {},
   "outputs": [
    {
     "name": "stdout",
     "output_type": "stream",
     "text": [
      "39.99\n",
      "50.0\n"
     ]
    }
   ],
   "source": [
    "#this confirms that a dti ratio of over 40 cannot get loans approved\n",
    "print np.max(approved['Debt-To-Income Ratio'])\n",
    "\n",
    "#changing the dti ratio to numerical values\n",
    "loan_data['Debt-To-Income Ratio'] = loan_data['Debt-To-Income Ratio'].str.extract(r'([0-9]+(\\.[0-9]+)?)')\n",
    "loan_data['Debt-To-Income Ratio'] = pd.to_numeric(loan_data['Debt-To-Income Ratio'])\n",
    "\n",
    "#capping the dti ratio at 50\n",
    "series = loan_data['Debt-To-Income Ratio']\n",
    "loan_data['Debt-To-Income Ratio'] = series.apply(lambda x: x if x <= 50.0 else 50.0)\n",
    "print np.max(loan_data['Debt-To-Income Ratio'])"
   ]
  },
  {
   "cell_type": "markdown",
   "metadata": {},
   "source": [
    "We use regular expressions to extract the numerical values from the text strings.\n",
    "Since the State is actually reflected in the first two values of the Zip Code, I chose to use Zip as a proxy for State and drop that column instead.\n",
    "I did consider turning Zip Code into a dummy variable, but simple transformations of that would lead to many unnecessary dimensions for my input data and I could not find simple, clear groupings that would have allowed me to create sub-buckets effectively, without having to make some assumptions about the impact of Zip on loan request. I tested the model with Zip as it was instead, and found it to work sufficiently well to forego the Zip issue.\n",
    "\n",
    "---\n",
    "Since all data is now on a roughly similar scale, I chose not to apply any feature scaling. The removed code for it can also be found in the appendix. This choice would also mean, that I will be able to see more clearly what my model coefficients mean."
   ]
  },
  {
   "cell_type": "code",
   "execution_count": 9,
   "metadata": {},
   "outputs": [
    {
     "name": "stdout",
     "output_type": "stream",
     "text": [
      "['4 years' '< 1 year' '1 year' '3 years' '2 years' '10+ years' '9 years'\n",
      " '5 years' '7 years' '6 years' '8 years' 'n/a' nan]\n"
     ]
    }
   ],
   "source": [
    "#extracting numerical values from years worked\n",
    "print loan_data['Employment Length'].unique()\n",
    "loan_data['Employment Length'] = loan_data['Employment Length'].replace('< 1 year', '0 year')\n",
    "loan_data['Employment Length'] = loan_data['Employment Length'].str.extract(r'([0-9]+)')\n",
    "loan_data['Employment Length'] = pd.to_numeric(loan_data['Employment Length'])\n",
    "\n",
    "# zipcode -> numerical\n",
    "loan_data['Zip Code'] = loan_data['Zip Code'].str.extract(r'([0-9]+)')\n",
    "loan_data['Zip Code'] = pd.to_numeric(loan_data['Zip Code'])"
   ]
  },
  {
   "cell_type": "code",
   "execution_count": 10,
   "metadata": {},
   "outputs": [
    {
     "name": "stdout",
     "output_type": "stream",
     "text": [
      "(2225233, 6)\n"
     ]
    },
    {
     "data": {
      "text/html": [
       "<div>\n",
       "<style>\n",
       "    .dataframe thead tr:only-child th {\n",
       "        text-align: right;\n",
       "    }\n",
       "\n",
       "    .dataframe thead th {\n",
       "        text-align: left;\n",
       "    }\n",
       "\n",
       "    .dataframe tbody tr th {\n",
       "        vertical-align: top;\n",
       "    }\n",
       "</style>\n",
       "<table border=\"1\" class=\"dataframe\">\n",
       "  <thead>\n",
       "    <tr style=\"text-align: right;\">\n",
       "      <th></th>\n",
       "      <th>Amount Requested</th>\n",
       "      <th>Approved</th>\n",
       "      <th>Debt-To-Income Ratio</th>\n",
       "      <th>Employment Length</th>\n",
       "      <th>Policy Code</th>\n",
       "      <th>Zip Code</th>\n",
       "    </tr>\n",
       "  </thead>\n",
       "  <tbody>\n",
       "    <tr>\n",
       "      <th>0</th>\n",
       "      <td>1000.0</td>\n",
       "      <td>0</td>\n",
       "      <td>10.0</td>\n",
       "      <td>4.0</td>\n",
       "      <td>0.0</td>\n",
       "      <td>481.0</td>\n",
       "    </tr>\n",
       "    <tr>\n",
       "      <th>1</th>\n",
       "      <td>1000.0</td>\n",
       "      <td>0</td>\n",
       "      <td>10.0</td>\n",
       "      <td>0.0</td>\n",
       "      <td>0.0</td>\n",
       "      <td>10.0</td>\n",
       "    </tr>\n",
       "    <tr>\n",
       "      <th>2</th>\n",
       "      <td>11000.0</td>\n",
       "      <td>0</td>\n",
       "      <td>10.0</td>\n",
       "      <td>1.0</td>\n",
       "      <td>0.0</td>\n",
       "      <td>212.0</td>\n",
       "    </tr>\n",
       "  </tbody>\n",
       "</table>\n",
       "</div>"
      ],
      "text/plain": [
       "   Amount Requested  Approved  Debt-To-Income Ratio  Employment Length  \\\n",
       "0            1000.0         0                  10.0                4.0   \n",
       "1            1000.0         0                  10.0                0.0   \n",
       "2           11000.0         0                  10.0                1.0   \n",
       "\n",
       "   Policy Code  Zip Code  \n",
       "0          0.0     481.0  \n",
       "1          0.0      10.0  \n",
       "2          0.0     212.0  "
      ]
     },
     "execution_count": 10,
     "metadata": {},
     "output_type": "execute_result"
    }
   ],
   "source": [
    "loan_data = loan_data.drop(['Loan Title', 'State'], axis=1)\n",
    "loan_data = loan_data.dropna(axis=0, how='any')\n",
    "print loan_data.shape\n",
    "loan_data.head(3)"
   ]
  },
  {
   "cell_type": "markdown",
   "metadata": {},
   "source": [
    "## Section 3 - Model training & evaluation"
   ]
  },
  {
   "cell_type": "markdown",
   "metadata": {},
   "source": [
    "We will use a simple Logistic Regression model to predict whether loans were approved or declined. Using grid search, I determine the regularization parameter C to avoid overfitting on the training data. Sag, SAGA and Lbgfs are solvers that are particularly recommended for larger data sets. \n",
    "\n",
    "The grid search function also includes cross valiation to further ensure that we are not overfitting on the training data. We perform grid search on a sub-set of the training data (for time constraint reasons) and then train a model with the resulting parameters on all training data before we evaluate it on the test data set."
   ]
  },
  {
   "cell_type": "code",
   "execution_count": 15,
   "metadata": {},
   "outputs": [
    {
     "data": {
      "text/plain": [
       "GridSearchCV(cv=5, error_score='raise',\n",
       "       estimator=LogisticRegression(C=1.0, class_weight=None, dual=False, fit_intercept=True,\n",
       "          intercept_scaling=1, max_iter=100, multi_class='ovr', n_jobs=1,\n",
       "          penalty='l2', random_state=None, solver='liblinear', tol=0.0001,\n",
       "          verbose=0, warm_start=False),\n",
       "       fit_params=None, iid=True, n_jobs=1,\n",
       "       param_grid=[{'C': [1.0, 0.1, 0.01], 'max_iter': [500], 'solver': ['sag', 'saga', 'lbfgs']}],\n",
       "       pre_dispatch='2*n_jobs', refit=True, return_train_score='warn',\n",
       "       scoring='accuracy', verbose=0)"
      ]
     },
     "execution_count": 15,
     "metadata": {},
     "output_type": "execute_result"
    }
   ],
   "source": [
    "labels = loan_data['Approved']\n",
    "predictors = loan_data.drop('Approved', axis=1)\n",
    "\n",
    "X_train, X_test, y_train, y_test = train_test_split(predictors, labels, test_size=0.4)\n",
    "\n",
    "#GridSearch on a subsection of the data\n",
    "X_grid = X_train[:len(X_train)/20]\n",
    "y_grid = y_train[:len(X_train)/20]\n",
    "\n",
    "LR = LogisticRegression()\n",
    "parameters = [{'C': [1.0, 0.1, 0.01], 'max_iter': [500],\n",
    "              'solver': ['sag', 'saga', 'lbfgs']}]\n",
    "\n",
    "grid = GridSearchCV(LR, cv=5, param_grid=parameters,\n",
    "                    scoring='accuracy')\n",
    "grid.fit(X_grid, y_grid)"
   ]
  },
  {
   "cell_type": "code",
   "execution_count": 16,
   "metadata": {},
   "outputs": [
    {
     "name": "stdout",
     "output_type": "stream",
     "text": [
      "Parameters used for LR:\n",
      "{'C': 1.0, 'max_iter': 500, 'solver': 'lbfgs'}\n",
      " Coefficients: \n",
      "Amount Requested True = -7.29365690304e-05\n",
      "Amount Requested Log = -9.52592041194\n",
      "Debt-To-Income Ratio True = 0.216229342685\n",
      "Debt-To-Income Ratio Log = -1.53141566289\n",
      "Employment Length True = 0.232547133503\n",
      "Employment Length Log = -1.45866234976\n",
      "Policy Code True = 17.7406056145\n",
      "Policy Code Log = 2.87585611466\n",
      "Zip Code True = -0.000936116436095\n",
      "Zip Code Log = -6.97377069169\n"
     ]
    }
   ],
   "source": [
    "print \"Parameters used for LR:\"\n",
    "print grid.best_params_\n",
    "optimal_LR = grid.best_estimator_\n",
    "\n",
    "#training ideal model on total training data\n",
    "optimal_LR.fit(X_train, y_train)\n",
    "\n",
    "print \" Coefficients: \"\n",
    "features = predictors.columns.values\n",
    "coefficients = np.array(optimal_LR.coef_)\n",
    "\n",
    "for name, coef in zip(features, coefficients[0]):\n",
    "    print name, 'True', '=', coef\n",
    "    print name, 'Log', '=', np.log(abs(coef))"
   ]
  },
  {
   "cell_type": "code",
   "execution_count": 17,
   "metadata": {},
   "outputs": [
    {
     "name": "stdout",
     "output_type": "stream",
     "text": [
      "LR accuracy training data:  1.0\n",
      "LR accuracy testing data:  0.999992135662\n"
     ]
    }
   ],
   "source": [
    "y_pred = optimal_LR.predict(X_test)\n",
    "\n",
    "acc_train = grid.best_score_\n",
    "acc_test = accuracy_score(y_test, y_pred)\n",
    "print \"LR accuracy training data: \", acc_train\n",
    "print \"LR accuracy testing data: \", acc_test"
   ]
  },
  {
   "cell_type": "markdown",
   "metadata": {},
   "source": [
    "The accuracy scores here indicate that our model is not overfitting and, knowing that the classes are not signficantly unbalanced, we do not have to worry about accuracy mis-representing our true performance."
   ]
  },
  {
   "cell_type": "markdown",
   "metadata": {},
   "source": [
    "## Section 3 - Predicting loan request amounts"
   ]
  },
  {
   "cell_type": "markdown",
   "metadata": {},
   "source": [
    "The below function now takes a customers data and uses it to iteratively predict whether loans get approved, as the amount requested increases. Note, that this assumes, that the relationship between amount requested and approval is linear with a clear cutoff point. Nothing I have seen in the pre-processing led me to believe otherwise, but it would be possible that a person with certain characteristics could, for example, get loans from 500-2000 and 8000-10000, but for some reason not get a 6000 loan. Our model would then stop it's predictions at 2000 already.\n",
    "\n",
    "The step size of 500 has been chose arbitrarily to shorten prediction time and could be changed if higher precision is desired. "
   ]
  },
  {
   "cell_type": "code",
   "execution_count": 18,
   "metadata": {},
   "outputs": [],
   "source": [
    "def how_much_should_I_request():\n",
    "    request = 0\n",
    "    \n",
    "    print \"Please enter your information below:\"\n",
    "    debt = int(raw_input(\"What is your current debt? \"))\n",
    "    income = int(raw_input(\"What is your annual income? \"))\n",
    "    employ = int(raw_input(\"How long have you been in your current job? \"))\n",
    "    policy_code = int(raw_input(\"What's your policy code? (0 or 1) \"))\n",
    "    zip_code = int(raw_input(\"Please enter the first 3 digits of your zip code: \"))\n",
    "    \n",
    "    #corrections and errors\n",
    "    if income <= 0:\n",
    "        income = 1\n",
    "    dti = float(debt) / float(income)\n",
    "    if dti >= 50:\n",
    "        dti = 50\n",
    "    \n",
    "    if employ > 10:\n",
    "        employ = 10\n",
    "    \n",
    "    d = {'Amount': [request], 'Dti': [dti], 'Employment': [employ],\n",
    "         'Policy': [policy_code], 'Zip': [zip_code]}\n",
    "    data = pd.DataFrame(d)\n",
    "    print \"You entered the following information: \"\n",
    "    print data.head()\n",
    "    \n",
    "    for i in range(500, 40000, 100):\n",
    "        data['Amount'].iloc[0] = i\n",
    "        pred = optimal_LR.predict(data)\n",
    "        if pred == 0:\n",
    "            print \"Here's how much you could request: \" + str(data['Amount'].iloc[0] - 100)\n",
    "            break"
   ]
  },
  {
   "cell_type": "code",
   "execution_count": 19,
   "metadata": {},
   "outputs": [
    {
     "name": "stdout",
     "output_type": "stream",
     "text": [
      "Please enter your information below:\n",
      "What is your current debt? 10000\n",
      "What is your annual income? 30000\n",
      "How long have you been in your current job? 12\n",
      "What's your policy code? (0 or 1) 1\n",
      "Please enter the first 3 digits of your zip code: 432\n",
      "You entered the following information: \n",
      "   Amount       Dti  Employment  Policy  Zip\n",
      "0       0  0.333333          10       1  432\n",
      "Here's how much you could request: 16800\n"
     ]
    }
   ],
   "source": [
    "how_much_should_I_request()"
   ]
  },
  {
   "cell_type": "markdown",
   "metadata": {
    "collapsed": true
   },
   "source": [
    "---\n",
    "\n",
    "---"
   ]
  },
  {
   "cell_type": "markdown",
   "metadata": {},
   "source": [
    "## Appendix"
   ]
  },
  {
   "cell_type": "markdown",
   "metadata": {},
   "source": [
    "I chose not to pursue the Loan Title column further, since simply vectorizing the text (as in example code below) would have led to extremely high-dimensional data with perhaps little additional predictive value. Instead this text might be useful if the website had chose to create a limited amount of sub-categories for people to chose from. Such categories could also potentially be extraced from the existing text data, but from simply reading through a sub-set of the column, I could not find any apparent categories and hence did not further pursue this avenue."
   ]
  },
  {
   "cell_type": "code",
   "execution_count": 20,
   "metadata": {
    "collapsed": true
   },
   "outputs": [],
   "source": [
    "# tokenizer = nltk.tokenize.regexp.WhitespaceTokenizer()\n",
    "# lemmatizer = nltk.stem.WordNetLemmatizer()\n",
    "# vectorizer = TfidfVectorizer()\n",
    "\n",
    "# def lemmatize(text):\n",
    "#     text = text.decode('utf-8', errors='ignore')\n",
    "#     return [lemmatizer.lemmatize(w) for w in tokenizer.tokenize(text)]\n",
    "\n",
    "# text_data = loan_data['Loan Title']\n",
    "# text_data = text_data.str.lower()\n",
    "# text_data = text_data.apply(lemmatize)\n",
    "# text_data = text_data.apply(vectorizer)"
   ]
  },
  {
   "cell_type": "markdown",
   "metadata": {},
   "source": [
    "Here is some sample code I was planning on using to scale my values, but chose to apply caps and drop columns instead."
   ]
  },
  {
   "cell_type": "code",
   "execution_count": 21,
   "metadata": {
    "collapsed": true
   },
   "outputs": [],
   "source": [
    "# scaler = MinMaxScaler()\n",
    "\n",
    "# loan_data_scaled = pd.DataFrame(scaler.fit_transform(loan_data), columns=loan_data.columns)\n",
    "\n",
    "# loan_data['Debt-To-Income Ratio'] = loan_data_scaled['Debt-To-Income Ratio']\n",
    "# loan_data['Employment Length'] = loan_data_scaled['Employment Length']\n",
    "# loan_data['State'] = loan_data_scaled['State']\n",
    "# loan_data['Zip Code'] = loan_data_scaled['Zip Code']\n",
    "# loan_data.head()"
   ]
  }
 ],
 "metadata": {
  "kernelspec": {
   "display_name": "Python 2",
   "language": "python",
   "name": "python2"
  },
  "language_info": {
   "codemirror_mode": {
    "name": "ipython",
    "version": 2
   },
   "file_extension": ".py",
   "mimetype": "text/x-python",
   "name": "python",
   "nbconvert_exporter": "python",
   "pygments_lexer": "ipython2",
   "version": "2.7.14"
  }
 },
 "nbformat": 4,
 "nbformat_minor": 1
}
